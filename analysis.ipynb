{
 "cells": [
  {
   "cell_type": "markdown",
   "metadata": {},
   "source": [
    "# How hip are the hipsters? An astrophysicist analyzes last.fm data\n",
    "\n",
    "We're going to query thousands of last.fm profiles and see if there's a specific correlation in \"what\" music people listen to vs. \"how\" they listen their music."
   ]
  },
  {
   "cell_type": "code",
   "execution_count": 1,
   "metadata": {},
   "outputs": [],
   "source": [
    "%matplotlib inline\n",
    "\n",
    "import numpy as np\n",
    "import matplotlib.pyplot as plt\n",
    "\n",
    "from glob import glob\n",
    "import requests\n",
    "\n",
    "from config import api_key"
   ]
  },
  {
   "cell_type": "code",
   "execution_count": 2,
   "metadata": {},
   "outputs": [],
   "source": [
    "def get_top_lastfm_artist(top_artist):\n",
    "    params = {\n",
    "        \"method\": \"artist.getInfo\",\n",
    "        \"artist\": top_artist,\n",
    "        \"period\": \"overall\",\n",
    "        \"format\": \"json\",\n",
    "        \"api_key\": api_key\n",
    "    }\n",
    "    res = requests.get(\"http://ws.audioscrobbler.com/2.0/\", params=params).json()\n",
    "    return int(res[\"artist\"][\"stats\"][\"listeners\"]), int(res[\"artist\"][\"stats\"][\"playcount\"])\n",
    "\n",
    "def try_float(x):\n",
    "    try:\n",
    "        xx = float(x)\n",
    "        return xx\n",
    "    except ValueError:\n",
    "        return np.nan\n",
    "\n",
    "def load_all_artist_info():\n",
    "    all_artist_info = {}\n",
    "    \n",
    "    for line in open('artists.txt','r'):\n",
    "        artist, playcount, listeners, mainstreamness = line.split(\"|||\")\n",
    "        try:\n",
    "            all_artist_info[artist.strip()] = {'artist_playcount': try_float(playcount.strip()),\\\n",
    "                                   'listeners': try_float(listeners.strip()), \\\n",
    "                                   'mainstreamness': try_float(mainstreamness.strip())}\n",
    "        except KeyError:\n",
    "            all_artist_info[artist.strip()] = {'artist_playcount': np.nan,\\\n",
    "                                   'listeners': np.nan, \\\n",
    "                                   'mainstreamness': np.nan}\n",
    "    return all_artist_info\n",
    "\n",
    "\n",
    "MAX_LISTENERS, MAX_PLAYCOUNT = get_top_lastfm_artist(\"Coldplay\")\n",
    "\n",
    "\n",
    "\n",
    "class user(object):\n",
    "    \n",
    "    def __init__(self, username):\n",
    "        \n",
    "        self.username = username\n",
    "        self.user_response = None\n",
    "        \n",
    "        self.artists = {}\n",
    "        \n",
    "        self.mainstreamness = None\n",
    "        self.gini = None\n",
    "        self.user_total_playcount = None\n",
    "    \n",
    "    \n",
    "    def compute_user_gini(self):\n",
    "        if self.gini is None:\n",
    "            playcount_list = [ a.user_playcount for a in self.artists.values()]\n",
    "            sorted_list = sorted(playcount_list)\n",
    "            if not sorted_list:\n",
    "                return np.NaN\n",
    "            else:\n",
    "                height, area = 0, 0\n",
    "                for value in sorted_list:\n",
    "                    height += value\n",
    "                    area += height - value / 2.\n",
    "                fair_area = height * len(playcount_list) / 2.\n",
    "                self.gini = (fair_area - area) / fair_area\n",
    "        return self.gini\n",
    "    \n",
    "    \n",
    "    def compute_user_mainstreamness(self):\n",
    "        \n",
    "        if self.mainstreamness is None:\n",
    "            self.mainstreamness = sum([ a.user_playcount * a.mainstreamness \\\n",
    "                                       for a in self.artists.values() ])\n",
    "            try:\n",
    "                self.mainstreamness = self.mainstreamness / sum([ a.user_playcount \\\n",
    "                                        for a in self.artists.values() ])\n",
    "            except ZeroDivisionError:\n",
    "                self.mainstreamness = None\n",
    "    \n",
    "    \n",
    "    def get_top_50_artists(self, write_to_file=False, read_from_file=False):\n",
    "        \n",
    "        assert not (write_to_file and read_from_file)\n",
    "        \n",
    "        self.user_total_playcount = 0\n",
    "        \n",
    "        if read_from_file:\n",
    "            with open(\"./users/\" + self.username + \".txt\") as f:\n",
    "                lines = f.readlines()\n",
    "                for l in lines[:-1]:\n",
    "                    artist_name, user_playcount = l.split(\" ||| \")\n",
    "                    self.artists[artist_name] = artist(artist_name, int(user_playcount.strip()))\n",
    "                    \n",
    "                self.user_total_playcount = int(lines[-1].split('playcount: ')[1])\n",
    "                    \n",
    "        else:\n",
    "            creds_user = {\n",
    "                \"method\": \"user.getTopArtists\",\n",
    "                \"user\": self.username,\n",
    "                \"period\": \"overall\",\n",
    "                \"format\": \"json\",\n",
    "                \"limit\": 50,\n",
    "                \"api_key\": api_key\n",
    "            }\n",
    "\n",
    "            self.user_response = requests.get(\"http://ws.audioscrobbler.com/2.0/\", params=creds_user).json()\n",
    "\n",
    "            num = len(self.user_response[\"topartists\"][\"artist\"])\n",
    "\n",
    "            if write_to_file:\n",
    "                f = open(\"./users/\" + self.username + \".txt\", \"w\")\n",
    "            \n",
    "            for i in range(num):\n",
    "                artist_name = self.user_response[\"topartists\"][\"artist\"][i][\"name\"]\n",
    "                user_playcount = int(self.user_response[\"topartists\"][\"artist\"][i][\"playcount\"])\n",
    "                self.user_total_playcount += user_playcount\n",
    "                self.artists[artist_name] = artist(artist_name, user_playcount)\n",
    "                \n",
    "                if write_to_file:\n",
    "                    f.write(artist_name + \" ||| \" + str(user_playcount) + \"\\n\")\n",
    "                    \n",
    "            if write_to_file:\n",
    "                f.write(\"## playcount: \" + str(self.user_total_playcount))\n",
    "                f.close()\n",
    "            \n",
    "    def get_top_50_artists_info(self, read_from_dict=None):\n",
    "        \n",
    "        for a in self.artists.values(): a.get_artist_info(read_from_dict)  \n",
    "    \n",
    "    \n",
    "    \n",
    "class artist(object):\n",
    "\n",
    "    def __init__(self, artist_name, user_playcount = None):\n",
    "\n",
    "        self.artist_name = artist_name\n",
    "        self.artist_response = None\n",
    "        self.artist_data = None\n",
    "        \n",
    "        self.artist_playcount = None\n",
    "        self.listeners = None\n",
    "        self.mainstreamness = None\n",
    "        \n",
    "        self.user_playcount = user_playcount\n",
    "\n",
    "    def get_artist_info(self, read_from_dict=None, write_to_file=False):\n",
    "\n",
    "        if read_from_dict:\n",
    "            self.artist_data = read_from_dict\n",
    "            try:\n",
    "                self.artist_playcount = self.artist_data[self.artist_name]['artist_playcount']\n",
    "                self.listeners = self.artist_data[self.artist_name]['listeners']\n",
    "                self.mainstreamness = self.artist_data[self.artist_name]['mainstreamness']\n",
    "            except KeyError:\n",
    "                self.artist_playcount = np.nan\n",
    "                self.listeners = np.nan\n",
    "                self.mainstreamness = np.nan\n",
    "        \n",
    "        else:\n",
    "            creds_artist = {\n",
    "                \"method\": \"artist.getInfo\",\n",
    "                \"artist\": self.artist_name,\n",
    "                \"period\": \"overall\",\n",
    "                \"format\": \"json\",\n",
    "                \"api_key\": api_key\n",
    "            }\n",
    "\n",
    "            self.artist_response = requests.get(\"http://ws.audioscrobbler.com/2.0/\", params=creds_artist).json()\n",
    "\n",
    "            \n",
    "            try:\n",
    "                self.artist_playcount = int(self.artist_response[\"artist\"][\"stats\"][\"playcount\"])\n",
    "                self.listeners = int(self.artist_response[\"artist\"][\"stats\"][\"listeners\"])\n",
    "            \n",
    "\n",
    "                minval, maxval = 10000, MAX_LISTENERS\n",
    "\n",
    "                if self.listeners > minval:\n",
    "                    self.mainstreamness = (np.log(self.listeners) - np.log(minval)) / (np.log(maxval) - np.log(minval))\n",
    "                else:\n",
    "                    self.mainstreamness = 0.\n",
    "                    \n",
    "            except KeyError:\n",
    "                self.playcount, self.listeners, self.mainstreamness = np.NaN, np.NaN, np.NaN\n",
    "                \n",
    "            \n",
    "            if write_to_file:\n",
    "                f = open(\"./artists.txt\", \"a\")\n",
    "#                if self.artist_name + \" |||\" not in open('./artists.txt').read():\n",
    "                f.write(self.artist_name + \" ||| \" + str(self.artist_playcount) \\\n",
    "                                    + \" ||| \" + str(self.listeners) \\\n",
    "                                    + \" ||| \" + str(self.mainstreamness) + \"\\n\")\n",
    "                f.close()"
   ]
  },
  {
   "cell_type": "markdown",
   "metadata": {},
   "source": [
    "First, we need a random sample of users. I do this by starting with a profile (e.g., my own \"gravity_tractor\"), selecting a random friend/follower, and saving their username. Then I do this for one of THEIR friends/followers, then and so on for some large number of iterations. I save every 4th user to prevent very strong correlations between friends' or friends-of-friends' musical taste.\n",
    "\n",
    "There were times where this procedure looped back to an already queried user. In the end, I have a list of users and remove any duplicate entries.\n",
    "\n",
    "The cell below generates this list of users.\n",
    "\n",
    "## WARNING: TAKES A WHILE. SKIP IF YOU HAVE A USER LIST STORED SOMEWHERE"
   ]
  },
  {
   "cell_type": "code",
   "execution_count": null,
   "metadata": {},
   "outputs": [],
   "source": [
    "newuser = olduser = \"gravity_tractor\"\n",
    "\n",
    "#f = open(\"./users/usernames.txt\", \"w\")\n",
    "\n",
    "names = []\n",
    "\n",
    "for i in range(10000):\n",
    "    params = {\n",
    "        \"method\": \"user.getFriends\",\n",
    "        \"user\": newuser,\n",
    "        \"format\": \"json\",\n",
    "        \"limit\": 500,\n",
    "        \"api_key\": api_key\n",
    "    }\n",
    "    \n",
    "    try:\n",
    "        r = requests.get(\"http://ws.audioscrobbler.com/2.0/\", params=params).json()\n",
    "        rand = np.random.randint(0, len(r['friends']['user']))\n",
    "        newuser = r['friends']['user'][rand]['name']\n",
    "    except:\n",
    "        print(\"### PROBLEM WITH ###\", newuser)\n",
    "        params['user'] = olduser\n",
    "        newuser = olduser\n",
    "        r = requests.get(\"http://ws.audioscrobbler.com/2.0/\", params=params).json()\n",
    "    \n",
    "    if i%4==0:\n",
    "#        f.write(newuser + \"\\n\")\n",
    "        print(newuser)\n",
    "        if newuser in names:\n",
    "            newuser = np.random.choice(names)\n",
    "        else: \n",
    "            names.append(newuser)\n",
    "    \n",
    "#f.close()"
   ]
  },
  {
   "cell_type": "markdown",
   "metadata": {},
   "source": [
    "## Download user info directly from last.fm (slow) or from files (fast)\n",
    "\n",
    "The first thing we want to do is get a user's top 50 artists. This is a very slow process if we're querying information for thousands of last.fm users, even with the last.fm API. For the sake of being able to repeat this experiment in a timely manner, I stored every user's data in files corresponding to their usernames.\n",
    "\n",
    "In the end, we get a dictionary that contains each username, their top 50 artists, and how many times they've listened to each artist."
   ]
  },
  {
   "cell_type": "code",
   "execution_count": 3,
   "metadata": {},
   "outputs": [],
   "source": [
    "from ipywidgets import FloatProgress\n",
    "from IPython.display import display"
   ]
  },
  {
   "cell_type": "code",
   "execution_count": 4,
   "metadata": {},
   "outputs": [
    {
     "data": {
      "application/vnd.jupyter.widget-view+json": {
       "model_id": "82e6576f4693415482f336b2656be413",
       "version_major": 2,
       "version_minor": 0
      },
      "text/html": [
       "<p>Failed to display Jupyter Widget of type <code>FloatProgress</code>.</p>\n",
       "<p>\n",
       "  If you're reading this message in the Jupyter Notebook or JupyterLab Notebook, it may mean\n",
       "  that the widgets JavaScript is still loading. If this message persists, it\n",
       "  likely means that the widgets JavaScript library is either not installed or\n",
       "  not enabled. See the <a href=\"https://ipywidgets.readthedocs.io/en/stable/user_install.html\">Jupyter\n",
       "  Widgets Documentation</a> for setup instructions.\n",
       "</p>\n",
       "<p>\n",
       "  If you're reading this message in another frontend (for example, a static\n",
       "  rendering on GitHub or <a href=\"https://nbviewer.jupyter.org/\">NBViewer</a>),\n",
       "  it may mean that your frontend doesn't currently support widgets.\n",
       "</p>\n"
      ],
      "text/plain": [
       "FloatProgress(value=0.0, max=17961.0)"
      ]
     },
     "metadata": {},
     "output_type": "display_data"
    }
   ],
   "source": [
    "user_info = {}\n",
    "files = \"\\t\".join(glob(\"./users/*.txt\"))\n",
    "\n",
    "with open(\"./usernames.txt\") as f:\n",
    "    usernames = list(map(lambda s: s.rstrip(), f.readlines()))\n",
    "    \n",
    "f = FloatProgress(min=0, max=len(usernames))\n",
    "display(f)\n",
    "\n",
    "rff = True\n",
    "wtf = False\n",
    "\n",
    "for i,u in enumerate(usernames):\n",
    "    if rff and u in user_info:\n",
    "            continue\n",
    "    elif wtf:\n",
    "        if \"/users/\"+u+\".txt\" in files:\n",
    "            continue    \n",
    "    else:\n",
    "        try:\n",
    "            uu = user(u)\n",
    "            uu.get_top_50_artists(read_from_file=rff)\n",
    "            user_info[u] = uu\n",
    "        except ConnectionError:\n",
    "            user_info.pop(u, None)\n",
    "    f.value = i"
   ]
  },
  {
   "cell_type": "markdown",
   "metadata": {},
   "source": [
    "## Get a list of all unique artists, then get their info (playcount, listeners, mainstream rating)\n",
    "\n",
    "Next, we want to get a sense of how mainstream all of the artists are. So, we create a list of *unique* artists."
   ]
  },
  {
   "cell_type": "code",
   "execution_count": 5,
   "metadata": {},
   "outputs": [],
   "source": [
    "artists = list(set([ a for u in user_info.keys() for a in list(user_info[u].artists.keys()) ]))"
   ]
  },
  {
   "cell_type": "markdown",
   "metadata": {},
   "source": [
    "The next cell prints the number of unique artists from everyone's profiles."
   ]
  },
  {
   "cell_type": "code",
   "execution_count": 6,
   "metadata": {},
   "outputs": [
    {
     "name": "stdout",
     "output_type": "stream",
     "text": [
      "78442\n"
     ]
    }
   ],
   "source": [
    "print(len(artists))"
   ]
  },
  {
   "cell_type": "markdown",
   "metadata": {},
   "source": [
    "I also have all the artist information stored locally. Let's load that real quick."
   ]
  },
  {
   "cell_type": "code",
   "execution_count": 7,
   "metadata": {},
   "outputs": [],
   "source": [
    "artist_info = load_all_artist_info()"
   ]
  },
  {
   "cell_type": "markdown",
   "metadata": {},
   "source": [
    "Now let's append all of the user data with information on their top 50 artists."
   ]
  },
  {
   "cell_type": "code",
   "execution_count": 8,
   "metadata": {},
   "outputs": [],
   "source": [
    "for u in user_info:\n",
    "    user_info[u].get_top_50_artists_info(read_from_dict=artist_info)"
   ]
  },
  {
   "cell_type": "markdown",
   "metadata": {},
   "source": [
    "## Computing a user's mainstream factor and Gini coefficients\n",
    "\n",
    "With both the user and artist information, we can compute each user's mainstream factor and their Gini coefficients."
   ]
  },
  {
   "cell_type": "code",
   "execution_count": null,
   "metadata": {},
   "outputs": [],
   "source": [
    "data = []"
   ]
  },
  {
   "cell_type": "code",
   "execution_count": null,
   "metadata": {},
   "outputs": [],
   "source": [
    "for u in user_info:\n",
    "    user_info[u].compute_user_mainstreamness()\n",
    "    user_info[u].compute_user_gini()\n",
    "    data.append([user_info[u].mainstreamness, user_info[u].gini, user_info[u].user_total_playcount, u])\n",
    "    \n",
    "len(data)"
   ]
  },
  {
   "cell_type": "markdown",
   "metadata": {},
   "source": [
    "Only consider users with more than 500 total plays and Gini coefficients not equal to 0."
   ]
  },
  {
   "cell_type": "code",
   "execution_count": null,
   "metadata": {},
   "outputs": [],
   "source": [
    "data_clean = [ d for d in data if np.nan not in d ]\n",
    "data_clean = [ d for d in data_clean if d[2]>500 and d[1]!=0 ]"
   ]
  },
  {
   "cell_type": "code",
   "execution_count": null,
   "metadata": {},
   "outputs": [],
   "source": [
    "data_T = list(map(list, zip(*data_clean)))\n",
    "mainstreamnesses = data_T[0]\n",
    "ginis = data_T[1]\n",
    "playcounts = data_T[2]"
   ]
  },
  {
   "cell_type": "code",
   "execution_count": null,
   "metadata": {},
   "outputs": [],
   "source": [
    "bins_x = np.linspace(0, 1, 21)\n",
    "bins_y = np.linspace(0, 1, 21)\n",
    "\n",
    "digitized = np.digitize(mainstreamnesses, bins_x)\n",
    "\n",
    "means_x = [np.array(mainstreamnesses)[digitized == i].mean() for i in range(1, len(bins_x))]\n",
    "means_y = [np.array(ginis)[digitized == i].mean() for i in range(1, len(bins_x))]\n",
    "\n",
    "per_y_15 = [np.percentile(np.array(ginis)[digitized == i], 15) for i in range(1,19)] + [np.NaN, np.NaN]\n",
    "per_y_85 = [np.percentile(np.array(ginis)[digitized == i], 85) for i in range(1,19)] + [np.NaN, np.NaN]"
   ]
  },
  {
   "cell_type": "code",
   "execution_count": null,
   "metadata": {},
   "outputs": [],
   "source": []
  },
  {
   "cell_type": "code",
   "execution_count": null,
   "metadata": {},
   "outputs": [],
   "source": [
    "plt.figure(figsize=(16,10))\n",
    "plt.style.use('fivethirtyeight')\n",
    "cm = plt.cm.get_cmap('plasma_r')\n",
    "\n",
    "sc = plt.scatter(mainstreamnesses, ginis, c=np.log10(playcounts), \\\n",
    "                 s=20, alpha=0.5, cmap=cm, edgecolors=\"None\", picker=True)\n",
    "#mpldatacursor.datacursor(sc)\n",
    "plt.colorbar(sc, label=\"log10(# of total user plays)\")\n",
    "plt.plot(np.linspace(0.05,0.95,20), means_y, 'o-', color='black')\n",
    "plt.xlabel(\"Average Taste\", fontsize=20)\n",
    "plt.ylabel(\"Artist Play Distribution\", fontsize=20)\n",
    "plt.xlim(0., 1.)\n",
    "plt.ylim(-0.01, 1.)\n",
    "\n",
    "plt.text(0.1, -0.07, \"obscure\", fontsize=16)\n",
    "plt.text(0.8, -0.07, \"mainstream\", fontsize=16)\n",
    "plt.text(-0.07, 0.15, \"uniform\", fontsize=16, rotation=90)\n",
    "plt.text(-0.07, 0.9, \"steep\", fontsize=16, rotation=90)\n",
    "\n",
    "plt.show()"
   ]
  },
  {
   "cell_type": "code",
   "execution_count": null,
   "metadata": {},
   "outputs": [],
   "source": [
    "#ddd = [d for d in data_clean if d[0] > 0.85 and d[1] < 0.2 ]"
   ]
  },
  {
   "cell_type": "markdown",
   "metadata": {},
   "source": [
    "## Examples for individual users\n",
    "\n",
    "Here's how to show where individual users reside in this figure."
   ]
  },
  {
   "cell_type": "code",
   "execution_count": null,
   "metadata": {},
   "outputs": [],
   "source": [
    "users = {}\n",
    "\n",
    "for username in ['gravity_tractor','NMH1998', 'arthurcormorant', 'michiganwookie', 'rskasch']:\n",
    "    uu = user(username)\n",
    "    uu.get_top_50_artists()\n",
    "    uu.get_top_50_artists_info()\n",
    "    uu.compute_user_mainstreamness()\n",
    "    uu.compute_user_gini()\n",
    "    users[username] = uu\n",
    "    print('done with ' + username)\n",
    "\n",
    "#    user_data = { key: uu.artists[key].user_playcount for key in uu.artists.keys() }\n",
    "#    user_artists = list(sorted(user_data, key=user_data.__getitem__, reverse=True))\n",
    "    \n",
    "#    print(username, \"mainstreamness:\", uu.mainstreamness)\n",
    "#    print(username, \"play distribution:\", uu.gini)\n",
    "    \n",
    "#    plt.style.use('fivethirtyeight')\n",
    "#    xs = np.linspace(1.,50.,50)\n",
    "#    plt.bar(xs, sorted([user_data[key] for key in user_data.keys()], reverse=True))\n",
    "#    plt.xticks(xs, user_artists, rotation=90)\n",
    "#    plt.title(username)\n",
    "#    plt.ylabel(\"Play Count\")\n",
    "#    plt.xlim(0.,20.5)\n",
    "#    plt.show()"
   ]
  },
  {
   "cell_type": "code",
   "execution_count": null,
   "metadata": {},
   "outputs": [],
   "source": [
    "plt.figure(figsize=(16,10))\n",
    "plt.style.use('fivethirtyeight')\n",
    "cm = plt.cm.get_cmap('plasma_r')\n",
    "\n",
    "for u in users:\n",
    "    plt.plot(users[u].mainstreamness, users[u].gini, '*', color='black', markersize=20)\n",
    "    plt.annotate(\n",
    "        u,\n",
    "        xy=(users[u].mainstreamness, users[u].gini), xytext=(0., 10),\n",
    "        textcoords='offset points', ha='right', va='bottom',\n",
    "        bbox=dict(boxstyle='round,pad=0.5', fc='yellow', alpha=0.5),\n",
    "        arrowprops=dict(arrowstyle = '->', connectionstyle='arc3,rad=0'))\n",
    "    \n",
    "sc = plt.scatter(mainstreamnesses, ginis, c=np.log10(playcounts), \\\n",
    "                 s=20, alpha=0.5, cmap=cm, edgecolors=\"None\", picker=True)\n",
    "plt.colorbar(sc, label=\"log10(# of total user plays)\")\n",
    "plt.xlabel(\"Average Taste\", fontsize=20)\n",
    "plt.ylabel(\"Artist Play Distribution\", fontsize=20)\n",
    "plt.xlim(0., 1.)\n",
    "plt.ylim(-0.01, 1.)\n",
    "\n",
    "plt.text(0.1, -0.07, \"obscure\", fontsize=16)\n",
    "plt.text(0.8, -0.07, \"mainstream\", fontsize=16)\n",
    "plt.text(-0.07, 0.15, \"uniform\", fontsize=16, rotation=90)\n",
    "plt.text(-0.07, 0.9, \"steep\", fontsize=16, rotation=90)\n",
    "\n",
    "plt.show()"
   ]
  },
  {
   "cell_type": "code",
   "execution_count": null,
   "metadata": {},
   "outputs": [],
   "source": []
  },
  {
   "cell_type": "code",
   "execution_count": null,
   "metadata": {},
   "outputs": [],
   "source": []
  },
  {
   "cell_type": "code",
   "execution_count": null,
   "metadata": {},
   "outputs": [],
   "source": []
  }
 ],
 "metadata": {
  "kernelspec": {
   "display_name": "Python 3",
   "language": "python",
   "name": "python3"
  },
  "language_info": {
   "codemirror_mode": {
    "name": "ipython",
    "version": 3
   },
   "file_extension": ".py",
   "mimetype": "text/x-python",
   "name": "python",
   "nbconvert_exporter": "python",
   "pygments_lexer": "ipython3",
   "version": "3.6.4"
  }
 },
 "nbformat": 4,
 "nbformat_minor": 2
}
